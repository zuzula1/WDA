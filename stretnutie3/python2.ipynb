{
 "cells": [
  {
   "cell_type": "markdown",
   "metadata": {},
   "source": [
    "## Dátové štruktúry a objekty 1\n",
    "Okrem základných dátových typov Python štandardne poskytuje typy pre kolekcie objektov, ako napr. zoznamy, množiny a mapy a dátové objekty pre reprezentáciu dátumov.\n",
    "\n",
    "### Zoznamy\n",
    "\n",
    "Zoznamy sú definované ako postupnosť hodnôt ku ktorým je možné pristupovať cez index (indexovanie je od 0). V Pythone môžu zoznamy obsahovať hodnoty rôznych typov. Na rozdiel od reťazcov, prvky zoznamov je možné meniť. Zoznamy sa definujú v hranatých zátvorkách `[]` a jednotlivé prvky sú oddelené `,`."
   ]
  },
  {
   "cell_type": "code",
   "execution_count": null,
   "metadata": {},
   "outputs": [],
   "source": [
    "numbers = [\"zero\", 1, 2, 3]  # zoznam môže obsahovať prvky rôznych typov\n",
    "numbers"
   ]
  },
  {
   "cell_type": "markdown",
   "metadata": {},
   "source": [
    "Indexovanie je podobné ako pri reťazcoch, záporné indexy označujú prvky od konca zoznamu."
   ]
  },
  {
   "cell_type": "code",
   "execution_count": null,
   "metadata": {},
   "outputs": [],
   "source": [
    "print(numbers[0])  # = ‘zero’\n",
    "print(numbers[-3]) # = 1\n",
    "\n",
    "numbers[0] = 0    # na rozdiel od reťazcov, prvky môžete meniť\n",
    "print(numbers[0]) # = 0"
   ]
  },
  {
   "cell_type": "markdown",
   "metadata": {},
   "source": [
    "Aj pri zoznamoch môžete používať `+` na spájanie a `*` na opakovanie."
   ]
  },
  {
   "cell_type": "code",
   "execution_count": null,
   "metadata": {},
   "outputs": [],
   "source": [
    "lower_letters = ['a', 'b', 'c']\n",
    "letters = lower_letters + ['A', 'B', 'C']\n",
    "letters # = ['a', 'b', 'c', 'A', 'B', 'C']"
   ]
  },
  {
   "cell_type": "markdown",
   "metadata": {},
   "source": [
    "Podobne ako reťazce, zoznamy sú objekty, ktoré majú definované metódy."
   ]
  },
  {
   "cell_type": "code",
   "execution_count": null,
   "metadata": {},
   "outputs": [],
   "source": [
    "numbers.append(5)       # na koniec zoznamu môžete pridať ďalší prvok metódou list.append(x) (numbers = [0, 1, 2, 3, 5])\n",
    "numbers.insert(4,4)     # a na zvolenú pozíciu metódou list.insert(index, x) (numbers = [0, 1, 2, 3, 4, 5])\n",
    "\n",
    "numbers.reverse()       # prehodí poradie prvkov (numbers = [5, 4, 3, 2, 1, 0])\n",
    "numbers.sort()          # usporiada ich podľa poradia\n",
    "numbers # = [0, 1, 2, 3, 4, 5]"
   ]
  },
  {
   "cell_type": "markdown",
   "metadata": {},
   "source": [
    "Dĺžku zoznamu môžete zistiť funkciou `len`."
   ]
  },
  {
   "cell_type": "code",
   "execution_count": null,
   "metadata": {},
   "outputs": [],
   "source": [
    "len(numbers) # = 6"
   ]
  },
  {
   "cell_type": "markdown",
   "metadata": {},
   "source": [
    "Pomocou rozsahov `[od:do]` môžete vytvoriť kópiu zoznamu, ktorú môžete nezávisle meniť."
   ]
  },
  {
   "cell_type": "code",
   "execution_count": null,
   "metadata": {},
   "outputs": [],
   "source": [
    "# kópiu celého zoznamu môžete vytvoriť ako\n",
    "numbers = [0, 1, 2, 3, 4, 5]\n",
    "new_numbers = numbers[:]"
   ]
  },
  {
   "cell_type": "markdown",
   "metadata": {},
   "source": [
    "Rozsahy môžete aj nahradiť za iný zoznam (nemusí mať rovnaký počet prvkov ako rozsah)."
   ]
  },
  {
   "cell_type": "code",
   "execution_count": null,
   "metadata": {},
   "outputs": [],
   "source": [
    "numbers[1:3] = [\"one\", \"two\"]\n",
    "numbers[-3:] = [] # rozsah odstránite zo zoznamu priradením prázdneho zoznamu\n",
    "numbers[:] = []   # takto môžete zmazať aj všetky prvky zoznamu"
   ]
  },
  {
   "cell_type": "markdown",
   "metadata": {},
   "source": [
    "Prvky môžete odstrániť aj pomocou príkazu `del`."
   ]
  },
  {
   "cell_type": "code",
   "execution_count": null,
   "metadata": {},
   "outputs": [],
   "source": [
    "del new_numbers[0]    # odstráni prvý prvok (new_numbers = [1, 2, 3, 4, 5])\n",
    "del new_numbers[-3:]  # odstráni posledné 3 prvky\n",
    "new_numbers # = [1, 2]"
   ]
  },
  {
   "cell_type": "markdown",
   "metadata": {},
   "source": [
    "Pomocou `del` môžete odstrániť aj celú premennú."
   ]
  },
  {
   "cell_type": "code",
   "execution_count": null,
   "metadata": {},
   "outputs": [],
   "source": [
    "# od tohto príkazu ďalej, prístup k premennej new_numbers skončí chybou, musíte jej znovu priradiť novú hodnotu\n",
    "del new_numbers"
   ]
  },
  {
   "cell_type": "markdown",
   "metadata": {},
   "source": [
    "Môžete definovať aj vnorené zoznamy (nemusia mať rovnaký počet prvkov)."
   ]
  },
  {
   "cell_type": "code",
   "execution_count": 6,
   "metadata": {},
   "outputs": [
    {
     "data": {
      "text/plain": [
       "1"
      ]
     },
     "execution_count": 6,
     "metadata": {},
     "output_type": "execute_result"
    }
   ],
   "source": [
    "nested_list = [[\"one\", \"two\"], [1, 2, 3]]\n",
    "nested_list[0][1] # = ‘two’\n",
    "nested_list[1][0] # = 1"
   ]
  },
  {
   "cell_type": "markdown",
   "metadata": {},
   "source": [
    "Reťazec môžete rozdeliť na časti oddelené oddeľovačom metódou `s.split(sep)`, ktorá vráti zoznam podreťazcov."
   ]
  },
  {
   "cell_type": "code",
   "execution_count": 7,
   "metadata": {},
   "outputs": [
    {
     "data": {
      "text/plain": [
       "['1', '', 'three']"
      ]
     },
     "execution_count": 7,
     "metadata": {},
     "output_type": "execute_result"
    }
   ],
   "source": [
    "strings = \"1,,three\".split(\",\")\n",
    "strings # = [\"1\", \"\", \"three\"]  # čísla sa automaticky neprevedú z reťazca"
   ]
  },
  {
   "cell_type": "markdown",
   "metadata": {},
   "source": [
    "Ak zoznam obsahuje reťazce, môžete ich spojiť oddeľovačom `sep` metódou `sep.join(list)`."
   ]
  },
  {
   "cell_type": "code",
   "execution_count": 8,
   "metadata": {},
   "outputs": [
    {
     "name": "stdout",
     "output_type": "stream",
     "text": [
      "1; two; three\n"
     ]
    }
   ],
   "source": [
    "print(\"; \".join([str(1), \"two\", \"three\"]))   # vypíše ‘1; two; three’ - všetky hodnoty musia byť reťazec (číslo 1 sme previedli funkciou str)"
   ]
  },
  {
   "cell_type": "markdown",
   "metadata": {},
   "source": [
    "Podrobnejší popis metód a viac o zoznamoch si môžete prečítať [tu](https://docs.python.org/3.7/tutorial/datastructures.html#more-on-lists) (v angličtine)."
   ]
  },
  {
   "cell_type": "markdown",
   "metadata": {},
   "source": [
    "## Úlohy\n",
    "\n",
    "### Úloha 2.1\n",
    "Vytvorte zoznamy ovocia a zeleniny, spojte ich do jedného zoznamu a usporiadajte podľa abecedy zostupne."
   ]
  },
  {
   "cell_type": "code",
   "execution_count": 5,
   "metadata": {},
   "outputs": [
    {
     "name": "stdout",
     "output_type": "stream",
     "text": [
      "['zeler', 'mrkva', 'mandarinka', 'kiwi', 'jablko', 'chren']\n"
     ]
    }
   ],
   "source": [
    "ovocie=['jablko','mandarinka','kiwi']\n",
    "zelenina=['mrkva','chren','zeler']\n",
    "vitaminy=ovocie+zelenina\n",
    "vitaminy.sort(reverse=True)\n",
    "print(vitaminy)"
   ]
  }
 ],
 "metadata": {
  "kernelspec": {
   "display_name": "Python 3",
   "language": "python",
   "name": "python3"
  },
  "language_info": {
   "codemirror_mode": {
    "name": "ipython",
    "version": 3
   },
   "file_extension": ".py",
   "mimetype": "text/x-python",
   "name": "python",
   "nbconvert_exporter": "python",
   "pygments_lexer": "ipython3",
   "version": "3.7.1"
  }
 },
 "nbformat": 4,
 "nbformat_minor": 2
}
