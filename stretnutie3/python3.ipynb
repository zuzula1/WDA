{
 "cells": [
  {
   "cell_type": "markdown",
   "metadata": {},
   "source": [
    "## Príkazy\n",
    "\n",
    "### Odsadzovanie kódu\n",
    "\n",
    "Odsadzovanie kódu medzerami alebo tabulátorom na začiatku riadku je v Pythone veľmi dôležité, pretože definuje ako sú príkazy do seba vnorené a spojené do blokov. Napr. nasledujúci kód skončí chybou `IndentationError: expected an indented block:`"
   ]
  },
  {
   "cell_type": "code",
   "execution_count": null,
   "metadata": {},
   "outputs": [],
   "source": [
    "number = 42\n",
    "if number < 0:\n",
    "print(\"negative value\") # chyba! vnorené príkazy musia byť odsadené na novom riadku aspoň jednou medzerou alebo tabulátorom"
   ]
  },
  {
   "cell_type": "markdown",
   "metadata": {},
   "source": [
    "Interpreter očakáva za podmienkou príkazu `if` aspoň jeden ďalší príkaz, ktorý sa vykoná ak je podmienka splnená. Keďže príkaz `print('negative value')` nie je na začiatku riadku odsadený žiadnou medzerou alebo tabulátorom, Interpreter ho považuje za príkaz, ktorý by mal nasledovať za `if`, a príkaz `if` bude považovať za neukončený. Podobne, nasledujúci kód je logicky chybný keďže sa správa `negative number, reset to 0` vypíše aj pre nezáporné čísla. Aby bol príkaz `print` vykonaný iba pri splnení podmienky, musí byť odsadený do rovnakého bloku ako `number = 0`."
   ]
  },
  {
   "cell_type": "code",
   "execution_count": null,
   "metadata": {},
   "outputs": [],
   "source": [
    "number = 42\n",
    "if number < 0:\n",
    "    number = 0\n",
    "print(\"negative number, reset to 0\") # logická chyba! ak sa má správa vypísať iba pre záporné čísla,\n",
    "                                     # musí byť príkaz rovnako odsadený ako number = 0"
   ]
  },
  {
   "cell_type": "code",
   "execution_count": null,
   "metadata": {},
   "outputs": [],
   "source": [
    "if number < 0:\n",
    "    number = 0\n",
    "  print \"negative number, reset to 0\" # chyba! odsadenie musí byť rovnaké pre všetky príkazy v jednom bloku"
   ]
  },
  {
   "cell_type": "markdown",
   "metadata": {},
   "source": [
    "### Vetvenia"
   ]
  },
  {
   "cell_type": "code",
   "execution_count": null,
   "metadata": {},
   "outputs": [],
   "source": [
    "number = 42\n",
    "# podmienkou príkazu if môže byť ľubovoľný výraz, ktorý sa vyhodnotí ako Boolovská hodnota\n",
    "# môžete napr. používať operátory <, >, <=, >=, ==, !=, ‘in’ (testovanie či objekt obsahuje daný prvok) a\n",
    "# kombinovať ich logickými spojkami and, or, not\n",
    "if number < 0:\n",
    "    print(\"negative\")\n",
    "else: # vetva ‘else’ je nepovinná\n",
    "    print(\"zero or positive\")\n",
    "# = zero or positive"
   ]
  },
  {
   "cell_type": "markdown",
   "metadata": {},
   "source": [
    "Viacero podmienok môžete zreťaziť klauzulou `elif` (zreťazenie cez `elif` nahradzuje v Pythone príkaz `switch/case` z jazyka C)"
   ]
  },
  {
   "cell_type": "code",
   "execution_count": null,
   "metadata": {},
   "outputs": [],
   "source": [
    "if number < 0:\n",
    "    number = 0\n",
    "    print(\"negative number, reset to 0\")\n",
    "elif number == 0:\n",
    "    print(\"zero\")\n",
    "elif number == 1:\n",
    "    print(\"single\")\n",
    "else:\n",
    "    print(\"more\")\n",
    "# = more"
   ]
  },
  {
   "cell_type": "markdown",
   "metadata": {},
   "source": [
    "Pre jednoduché podmienené priradenie môžete použiť skrátený zápis podobný ternárnemu príkazu z C `?:`\n",
    "Hodnota1 `if podmienka else hodnota2` - výraz sa rovná `hodnota1` ak je podmienka splnená, alebo `hodnota2` ak je nesplnená."
   ]
  },
  {
   "cell_type": "code",
   "execution_count": null,
   "metadata": {},
   "outputs": [],
   "source": [
    "result = \"negative\" if number < 0 else \"positive or zero\"\n",
    "result # = positive or zero"
   ]
  },
  {
   "cell_type": "markdown",
   "metadata": {},
   "source": [
    "### Cykly\n",
    "\n",
    "Python podporuje cyklus `while` a iterovanie prvkov cez príkaz `for`."
   ]
  },
  {
   "cell_type": "code",
   "execution_count": null,
   "metadata": {},
   "outputs": [],
   "source": [
    "i = 0\n",
    "while i < 10: # cyklus `while` vykonáva vnorený blok príkazov pokiaľ je podmienka splnená.\n",
    "    print(i)\n",
    "    i += 1    # skrátený zápis i = i + 1 (Python nepodporuje operátor ++/-- z jazyka C)"
   ]
  },
  {
   "cell_type": "code",
   "execution_count": null,
   "metadata": {},
   "outputs": [],
   "source": [
    "# ‘for‘ cyklus sa používa na postupné prechádzanie prvkov\n",
    "numbers = [1, 2, 3]\n",
    "# napr. pre zoznam, za ‘for’ definujete názov premennej, do ktorej budú postupne dosadené všetky prvky zoznamu\n",
    "for x in numbers:\n",
    "    print(x)\n",
    "\n",
    "print(\"x={0}\".format(x)) # po iterovaní je premenná definovaná aj mimo bloku cyklu a má nastavenú poslednú hodnotu"
   ]
  },
  {
   "cell_type": "code",
   "execution_count": null,
   "metadata": {},
   "outputs": [],
   "source": [
    "# ak chcete naraz vypísať index a hodnotu, môžete použiť funkciu enumerate()\n",
    "for i, v in enumerate([\"tic\", \"tac\", \"toe\"]):\n",
    "    print(i, v) # do i je priradený index (od 0) a do v hodnota"
   ]
  },
  {
   "cell_type": "code",
   "execution_count": null,
   "metadata": {},
   "outputs": [],
   "source": [
    "# ak budete počas iterovania pridávať alebo odoberať nejaké hodnoty zo zoznamu, je bezpečnejšie pre iterovanie urobiť jeho kópiu\n",
    "for x in numbers[:]:        # vytvoríme kópiu cez rozsah [:]\n",
    "    numbers.append(x * x)   # pridáme na koniec zoznamu druhé mocniny\n",
    "\n",
    "print(numbers) # = [1, 2, 3, 1, 4, 9]"
   ]
  },
  {
   "cell_type": "markdown",
   "metadata": {},
   "source": [
    "Pre jednoduché iterovanie si môžete vygenerovať postupnosť čísel pomocou funkcie `range()`, napr.:"
   ]
  },
  {
   "cell_type": "code",
   "execution_count": null,
   "metadata": {},
   "outputs": [],
   "source": [
    "for x in range(10): # vygeneruje sa postupnosť [0, 1, 2, 3, 4, 5, 6, 7, 8, 9]\n",
    "    print(x)\n",
    "\n",
    "# ako argument funkcie range() môžete voliteľne zadať aj počiatočnú hodnotu a krok\n",
    "range(3, 7)         # = [3, 4, 5, 6]\n",
    "range(10, 4, -2)    # = [10, 8, 6] - v obrátenom poradí bez poslednej hodnoty"
   ]
  },
  {
   "cell_type": "markdown",
   "metadata": {},
   "source": [
    "Pre prerušenie cyklu, alebo pre preskočenie kódu a pokračovanie ďalšou iteráciou sa používajú príkazy `break` a `continue`, ktoré fungujú podobne ako v jazyku C (môžete ich použiť aj v cykloch `while`)."
   ]
  },
  {
   "cell_type": "code",
   "execution_count": null,
   "metadata": {},
   "outputs": [],
   "source": [
    "for x in range(1, 10):\n",
    "    if x % 2 == 0:\n",
    "        print(\"continue for even number\")\n",
    "        continue    # pre párne čísla sa pokračuje nasledujúcou iteráciou a ďalšie príkazy v cykle sa preskočia\n",
    "    if x == 5:\n",
    "        break       # cyklus sa preruší pri x == 5 (pri vnorených cykloch ‘break’ preruší iba najbližší cyklus)\n",
    "    print(x)\n",
    "# vypíše sa:\n",
    "# 1\n",
    "# continue for even number\n",
    "# 3\n",
    "# continue for even number"
   ]
  },
  {
   "cell_type": "markdown",
   "metadata": {},
   "source": [
    "## Úlohy\n",
    "\n",
    "### Úloha 3.1\n",
    "Vygenerujte postupnosť čísel od 1 do 10 (vrátane) a vypočítajte v cykle ich priemernú hodnotu."
   ]
  },
  {
   "cell_type": "code",
   "execution_count": 15,
   "metadata": {},
   "outputs": [
    {
     "name": "stdout",
     "output_type": "stream",
     "text": [
      "5.5\n",
      "5.5\n"
     ]
    }
   ],
   "source": [
    "cisla=[i for i in range(1,11)]\n",
    "# ... looping:\n",
    "sucet=0\n",
    "for i in cisla:\n",
    "    sucet+=i\n",
    "avg=sucet/len(cisla)\n",
    "print(avg)\n",
    "# ... smarter way:\n",
    "avg=sum(cisla)/len(cisla)\n",
    "print(avg)"
   ]
  },
  {
   "cell_type": "markdown",
   "metadata": {},
   "source": [
    "### Úloha 3.2\n",
    "Naprogramujte skript jednoduchej kalkulačky, ktorá v cykle načíta na vstupe výrazy v tvare:\n",
    "`[číslo1] [operácia] [číslo2]` a vypočíta ich hodnotu. Čísla môžu byť celé alebo desatinné a operácia môže byť +-*/.\n",
    "Výsledok vypíšte na 4 desatinné miesta. Ako vstup použite nasledujúci zoznam výrazov."
   ]
  },
  {
   "cell_type": "code",
   "execution_count": 13,
   "metadata": {},
   "outputs": [
    {
     "name": "stdout",
     "output_type": "stream",
     "text": [
      "3.0000\n",
      "6.2800\n",
      "-1.0000\n",
      "2.0000\n"
     ]
    }
   ],
   "source": [
    "exprs = [\"1 + 2\", \"2 * 3.14\", \"2 - 3.0\", \"10 / 5\"]\n",
    "for vyraz in exprs:\n",
    "    print(f'{eval(vyraz):.4f}')"
   ]
  },
  {
   "cell_type": "markdown",
   "metadata": {},
   "source": [
    "### Úloha 3.3\n",
    "Na vstupe máte nasledujúce textové dáta:"
   ]
  },
  {
   "cell_type": "code",
   "execution_count": 3,
   "metadata": {},
   "outputs": [],
   "source": [
    "data = \"\"\"'power'; 'weight'; 'hybrid'; 'producer'\n",
    "55.3; 1450; false; 'ford'\n",
    "100; 2500; false; 'ford'\n",
    "60.5; 1150; true; 'toyota'\n",
    "56; ?; false; 'volkswagen'\n",
    "75.2; 1480; false; 'volkswagen'\n",
    "80.1; 1630; false; 'peugeot'\"\"\""
   ]
  },
  {
   "cell_type": "markdown",
   "metadata": {},
   "source": [
    "Napíšte skript, ktorý:\n",
    "* Rozdelí text na riadky a oddelí dátové polia. Hodnoty polí prevedie z reťazca na dátový typ Pythonu, tzn. čísla, reťazce bez oddeľovačov a Boolovské hodnoty.\n",
    "* Chýbajúce hodnoty označené `?` reprezentujte konštantou `None`.\n",
    "* Pre číselné polia vypíše základné štatistiky: min./max./priemernú hodnotu a štandardnú odchýlku zaokrúhlené na 4 desatinné miesta.\n",
    "* Pre textové polia vypíše zoznam hodnôt usporiadaný podľa abecedy."
   ]
  },
  {
   "cell_type": "code",
   "execution_count": 12,
   "metadata": {},
   "outputs": [
    {
     "name": "stdout",
     "output_type": "stream",
     "text": [
      "Data=\n",
      "[\n",
      "[55.3, 1450.0, False, 'Ford']\n",
      "[100.0, 2500.0, False, 'Ford']\n",
      "[60.5, 1150.0, True, 'Toyota']\n",
      "[56.0, None, False, 'Volkswagen']\n",
      "[75.2, 1480.0, False, 'Volkswagen']\n",
      "[80.1, 1630.0, False, 'Peugeot']\n",
      "]\n",
      "\n",
      "Min.power=    55.30\tMax.power=   100.00\tAvg.power=    71.18\n",
      "Min.weight= 1150.00\tMax.weight= 2500.00\tAvg.weight= 1642.00\n",
      "\n",
      "List of producers (sorted alphabetically):\n",
      "Ford   Peugeot   Toyota   Volkswagen   "
     ]
    }
   ],
   "source": [
    "upravene=data.replace('\\n','; ').replace('\\'','').split(';')[4:]\n",
    "vysledok=[upravene[i:i+4] for i in range(0,len(upravene),4)]\n",
    "final=[]\n",
    "for prvok in vysledok:\n",
    "    final_r=[]\n",
    "    for i in prvok:\n",
    "        if i==' ?':\n",
    "            final_r.append(None)\n",
    "        elif i==' false':\n",
    "            final_r.append(False)\n",
    "        elif i==' true':\n",
    "            final_r.append(True)\n",
    "        elif i.strip().replace('.','').isdigit():\n",
    "            final_r.append(float(i))\n",
    "        else:\n",
    "            final_r.append(i[1].upper()+i[2:])\n",
    "    final.append(final_r)\n",
    "print('Data=\\n[')\n",
    "for i in final:\n",
    "    print(i)\n",
    "print(']\\n')\n",
    "power=[final[i][0] for i in range(len(final)) if final[i][0] is not None]\n",
    "weight=[final[i][1] for i in range(len(final)) if final[i][1] is not None]\n",
    "min_power, max_power, avg_power=min(power), max(power), sum(power)/len(power)\n",
    "min_weight, max_weight, avg_weight=min(weight), max(weight), sum(weight)/len(weight)\n",
    "print(f'Min.power={min_power:9.2f}\\tMax.power={max_power:9.2f}\\tAvg.power={avg_power:9.2f}')\n",
    "print(f'Min.weight={min_weight:8.2f}\\tMax.weight={max_weight:8.2f}\\tAvg.weight={avg_weight:8.2f}')\n",
    "producer=list({final[i][3] for i in range(len(final))})\n",
    "producer.sort()\n",
    "print('\\nList of producers (sorted alphabetically):')\n",
    "for i in producer:\n",
    "    print(i+'   ',end='')"
   ]
  },
  {
   "cell_type": "code",
   "execution_count": null,
   "metadata": {},
   "outputs": [],
   "source": []
  },
  {
   "cell_type": "code",
   "execution_count": null,
   "metadata": {},
   "outputs": [],
   "source": []
  },
  {
   "cell_type": "code",
   "execution_count": null,
   "metadata": {},
   "outputs": [],
   "source": []
  }
 ],
 "metadata": {
  "kernelspec": {
   "display_name": "Python 3",
   "language": "python",
   "name": "python3"
  },
  "language_info": {
   "codemirror_mode": {
    "name": "ipython",
    "version": 3
   },
   "file_extension": ".py",
   "mimetype": "text/x-python",
   "name": "python",
   "nbconvert_exporter": "python",
   "pygments_lexer": "ipython3",
   "version": "3.7.1"
  }
 },
 "nbformat": 4,
 "nbformat_minor": 2
}
