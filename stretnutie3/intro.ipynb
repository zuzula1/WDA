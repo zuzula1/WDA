{
 "cells": [
  {
   "cell_type": "markdown",
   "metadata": {},
   "source": [
    "## Prostredie JupyterLab\n",
    "\n",
    "Hlavný typ dokumentu s ktorým budeme pracovať v prostredí JupyterLab je zápisník (_notebook_). Zápisník je členený do odstavcov troch typov: textový popis sformátovaný v Markdowne, zdrojový kód v jazyku Python a výstup kódu po spustení."
   ]
  },
  {
   "cell_type": "code",
   "execution_count": 7,
   "metadata": {},
   "outputs": [
    {
     "data": {
      "text/plain": [
       "3"
      ]
     },
     "execution_count": 7,
     "metadata": {},
     "output_type": "execute_result"
    }
   ],
   "source": [
    "1 + 2"
   ]
  },
  {
   "cell_type": "markdown",
   "metadata": {},
   "source": [
    "### Základné operácie s odstavcami\n",
    "\n",
    "* Nový odstavec môžete vytvoriť kliknutím na tlačidlo `+`. Štandardne sa vytvorí odstavec s Python kódom, ktorý sa pridá za aktuálny odstavec. Ak chcete zmeniť typ odstavca napr. na textový popis, kliknite na menu s typom odstavca `Code` a zvoľte typ `Markdown`.\n",
    "* Zmeny môžete uložiť cez menu `File > Save Notebook`, alebo stlačením `Ctrl+S`.\n",
    "* Pri editovaní môžete zrušiť zmeny v texte alebo kóde, alebo ich opakovať v menu `Edit > Undo`, alebo `Edit > Redo`.\n",
    "* Poradie odstavcov môžete jednoducho zmeniť _drag-and-drop_ presúvaním.\n",
    "* Ak chcete editovať textový odstavec, kliknite naň dvakrát myšou a zobrazí sa Vám Markdown formát. Pre zrušenie editovania, stlačte `Escape`. Ak chcete sformátovať a zobraziť text odstavca v Markdowne, alebo spustiť Python kód, stlačte `Shift+Enter`.\n",
    "* Ak chcete zmazať výstup po spustení, kliknite na odstavec pravým tlačidlom a v menu zvoľte `Clear Outputs`, alebo `Clear All Outputs` ak chcete zmazať výstupy v celom zápisníku.\n",
    "* Ak chcete zmazať niektorý odstavec, zrušte editovanie stlačením `Escape` a potom dvakrát stlačte `D`."
   ]
  },
  {
   "cell_type": "markdown",
   "metadata": {},
   "source": [
    "## Jazyk Python\n",
    "\n",
    "Váš program v jazyku Python zapísaný v zdrojovom texte (_zdrojovom kóde_) viete priamo spustiť pomocou _Interpretera_. Interpreter je program, ktorý načíta váš zdrojový kód a priamo vykoná príkazy, ktoré ste v ňom zapísali (tzn. interpretuje zdrojový kód, preto sa jazyk Python označuje ako tzv. interpretovaný jazyk). Prostredie JupyterLab spustí Interpreter na pozadí vždy keď pracujete s dokumentom zápisníka, vykoná v ňom kód jednotlivých odstavcov, ktoré spustíte a zobrazí vám výsledky."
   ]
  },
  {
   "cell_type": "markdown",
   "metadata": {},
   "source": [
    "## Prvý program"
   ]
  },
  {
   "cell_type": "markdown",
   "metadata": {},
   "source": [
    "Tradične, keď sa začínate učiť nový programovací jazyk, mali by ste sa v ňom pokúsiť vypísať jednoduchú správu na obrazovku. V Pythone na to môžete použiť nasledujúci príkaz:"
   ]
  },
  {
   "cell_type": "code",
   "execution_count": null,
   "metadata": {},
   "outputs": [],
   "source": [
    "print(\"Hello world...\")"
   ]
  },
  {
   "cell_type": "markdown",
   "metadata": {},
   "source": [
    "Príkaz `print(\"Hello world...\")` predstavuje volanie funkcie. Slovo `print` je názov funkcie za ktorým nasleduje zoznam parametrov (argumentov) funkcie ohraničený zátvorkami. V tomto prípade sme funkciu zavolali iba s jedným parametrom - reťazcom, ktorý obsahuje textovú správu `\"Hello world...\"`. Text je v reťazcoch ohraničený úvodzovkami `\"`. Funkcia `print` je priamo zabudovaná v jazyku Python, ale neskôr sa naučíme ako si môžete naprogramovať vlastné funkcie."
   ]
  },
  {
   "cell_type": "markdown",
   "metadata": {},
   "source": [
    "### Premenné\n",
    "\n",
    "Premenné slúžia na uchovávanie medzivýsledkov pri výpočte a môžete ich definovať zápisom `[meno premennej] = [hodnota]`. Meno premennej si môžete zvoliť, ale malo by dostatočne popisovať účel premennej. Pre pomenovanie premenných by ste mali ďalej dodržiavať tieto pravidlá:\n",
    "\n",
    "* Premenné označujte názvami s malými písmenami a nepoužívajte znaky s diakritikou. Viacslovné názvy oddeľujte `_` (napr. `process_data`).\n",
    "* Premenné, ktoré budú slúžiť v programe ako konštanty a ktoré sa nebudú pri spustení meniť pomenujte veľkými písmenami oddelenými `_` (napr. `DEFAULT_VALUE`)."
   ]
  },
  {
   "cell_type": "code",
   "execution_count": 2,
   "metadata": {},
   "outputs": [
    {
     "name": "stdout",
     "output_type": "stream",
     "text": [
      "Hello world...\n"
     ]
    }
   ],
   "source": [
    "# komentáre v Pythone začínajú znakom # a pokračujú do konca riadka.\n",
    "# komentáre používajte na pridávanie krátkych vysvetľujúcich poznámok o kóde, dlhšie dokumentačné texty zapíšte do textového odstavca a sformátujte Markdownom\n",
    "s = \"Hello world...\"\n",
    "print(s) # = s (komentáre nemusia začínať na začiatku riadka.)"
   ]
  },
  {
   "cell_type": "markdown",
   "metadata": {},
   "source": [
    "Ak sa pokúsite pristupovať k premennej ktorej ste nepriradili žiadnu hodnotu, Interpreterer skončí chybou `NameError: name 'názov premennej' is not defined`. Ak chcete definovať premennú s prázdnou hodnotou, môžete ako hodnotu zadať konštantu `None`. Napr. nasledujúci kód skončí chybou, pretože sme nedefinovali premennú s názvom `unknown_variable`."
   ]
  },
  {
   "cell_type": "code",
   "execution_count": null,
   "metadata": {},
   "outputs": [],
   "source": [
    "print(unknown_variable)"
   ]
  },
  {
   "cell_type": "markdown",
   "metadata": {},
   "source": [
    "Ak chceme vypísať hodnotu niektorej premennej, nemusíme používať funkciu `print`, stačí jej meno uviesť ako posledný výraz v odstavci, napr.: "
   ]
  },
  {
   "cell_type": "code",
   "execution_count": 1,
   "metadata": {},
   "outputs": [
    {
     "data": {
      "text/plain": [
       "1"
      ]
     },
     "execution_count": 1,
     "metadata": {},
     "output_type": "execute_result"
    }
   ],
   "source": [
    "x = 1\n",
    "x"
   ]
  },
  {
   "cell_type": "markdown",
   "metadata": {},
   "source": [
    "Po vytvorení premennej v jednom odstavci je premenná dostupná aj v ďalších odstavcoch, ktoré sa na ňu odkazujú, tzn. môžeme napr. ďalej pristupovať k premennej `x`, alebo `s` definovanej vyššie. Môžeme aj zmeniť ich hodnotu, čo sa prejaví vo **všekých** odstavcoch, ktoré sa na ňu odkazujú. Python neohraničuje typy premenných, tzn. do jednej premennej môžete zapísať napr. číslo a neskôr reťazec, alebo iný objekt.\n",
    "\n",
    "Funkcie môžete volať aj s viacerými parametrami, pričom ako parameter môžete zadať priamo dátovú hodnotu, alebo sa odkazovať na nejakú premennu. Funkcia `print` vypíše na obrazovku hodnoty všetkých parametrov v uvedenom poradí na jednom riadku a oddelí ich medzerou. Neskôr sa naučíme lepší spôsob formátovania vypisovaných správ."
   ]
  },
  {
   "cell_type": "code",
   "execution_count": 3,
   "metadata": {},
   "outputs": [
    {
     "name": "stdout",
     "output_type": "stream",
     "text": [
      "Python is number one !!!\n"
     ]
    }
   ],
   "source": [
    "s = \"one\" # zmenili sme hodnotu premennej s a priradili sme jej reťazec \"one\"\n",
    "# viacero parametrov je pri volaní funkcie oddelených čiarkou\n",
    "print(\"Python is number\", s, \"!!!\") # = Python is number one !!!"
   ]
  },
  {
   "cell_type": "markdown",
   "metadata": {},
   "source": [
    "Odstavce môžete spustiť viac krát, napr. nasledujúci kód vždy po spustení pripočíta k premennej `x`, ktorú sme predtým inicializovali na 1, hodnotu 1. "
   ]
  },
  {
   "cell_type": "code",
   "execution_count": null,
   "metadata": {},
   "outputs": [],
   "source": [
    "x = x + 1\n",
    "x"
   ]
  },
  {
   "cell_type": "markdown",
   "metadata": {},
   "source": [
    "Dávajte si pozor aj na to, že odstavce môžete spustiť v inom poradí než ako sú zapísané v zápisníku, čo môže zmeniť výsledky výpočtov. Preto v návodoch vždy postupujte za sebou v poradí a spustite aspoň raz každý odstavec, ktorý inicializuje premenné."
   ]
  },
  {
   "cell_type": "code",
   "execution_count": null,
   "metadata": {},
   "outputs": [],
   "source": []
  },
  {
   "cell_type": "markdown",
   "metadata": {},
   "source": [
    "## Úlohy\n",
    "\n",
    "### Úloha 0.1\n",
    "Vytvorte premennú `name` do ktorej priradíte Vaše meno. Potom výpíšte správu, ktorá zobrazí Vaše meno a priezvisko, pričom sa odkazujte na premennú `name`."
   ]
  },
  {
   "cell_type": "code",
   "execution_count": 6,
   "metadata": {},
   "outputs": [
    {
     "name": "stdout",
     "output_type": "stream",
     "text": [
      "Moje meno je Zuzka Tkáčová.\n"
     ]
    }
   ],
   "source": [
    "name='Zuzka Tkáčová'\n",
    "print(f'Moje meno je {name}.')"
   ]
  },
  {
   "cell_type": "markdown",
   "metadata": {},
   "source": [
    "### Úloha 0.2\n",
    "Vytvorte premenné `day` a `month` do ktorej priradíte deň a mesiac Vaších narodenín. Spočítajte ich hodnoty, vydeľte ich Vaším šťastným číslom a vypíšte výsledok na obrazovku (pre súčet a delenie dvoch hodnôt môžete použiť operátory `+` a `/`)."
   ]
  },
  {
   "cell_type": "code",
   "execution_count": 5,
   "metadata": {},
   "outputs": [
    {
     "name": "stdout",
     "output_type": "stream",
     "text": [
      "3.4\n"
     ]
    }
   ],
   "source": [
    "day, month = 15, 2\n",
    "print((day+month)/5)"
   ]
  }
 ],
 "metadata": {
  "kernelspec": {
   "display_name": "Python 3",
   "language": "python",
   "name": "python3"
  },
  "language_info": {
   "codemirror_mode": {
    "name": "ipython",
    "version": 3
   },
   "file_extension": ".py",
   "mimetype": "text/x-python",
   "name": "python",
   "nbconvert_exporter": "python",
   "pygments_lexer": "ipython3",
   "version": "3.7.1"
  }
 },
 "nbformat": 4,
 "nbformat_minor": 2
}
